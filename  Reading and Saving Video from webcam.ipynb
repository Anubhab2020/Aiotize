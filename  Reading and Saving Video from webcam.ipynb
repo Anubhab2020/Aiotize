{
 "cells": [
  {
   "cell_type": "markdown",
   "metadata": {},
   "source": [
    "# Reading and Saving Video from webcam"
   ]
  },
  {
   "cell_type": "code",
   "execution_count": 1,
   "metadata": {},
   "outputs": [],
   "source": [
    "import cv2"
   ]
  },
  {
   "cell_type": "code",
   "execution_count": 2,
   "metadata": {},
   "outputs": [],
   "source": [
    "cap = cv2.VideoCapture(0)    ##0-for webcam/default,, 1-for secondary cam and so on\n",
    "fourcc = cv2.VideoWriter_fourcc(*'XVID')        ##FourCC is a 4-byte code used to specify the video codec.i.e compress video\n",
    "out = cv2.VideoWriter('output2.avi',fourcc, 20.0 , (640,480)) ##(output_file_name, fourcc code, FPS, resolution/height width)"
   ]
  },
  {
   "cell_type": "code",
   "execution_count": 3,
   "metadata": {},
   "outputs": [
    {
     "name": "stdout",
     "output_type": "stream",
     "text": [
      "True\n"
     ]
    }
   ],
   "source": [
    "print(cap.isOpened())            ##check is video is able to capture or not\n",
    "while (cap.isOpened()):         ##when it is open run loop infinite times until stopped\n",
    "    ret,frame = cap.read()      ##reading the video and string in variable frame , and return ==1 or 0 as per cap value\n",
    "    if ret == True:\n",
    "        out.write(frame)        ## frames are stored in out variable after reading from cap\n",
    "        cv2.imshow('frame',frame)    ## showing video with window name 'frame' from webcam\n",
    "        if cv2.waitKey(1) & 0xFF == ord('q'):                   \n",
    "            break\n",
    "    else:\n",
    "        break\n",
    "            \n",
    "cap.release()\n",
    "out.release()\n",
    "cv2.destroyAllWindows()\n",
    "    "
   ]
  },
  {
   "cell_type": "code",
   "execution_count": null,
   "metadata": {},
   "outputs": [],
   "source": []
  }
 ],
 "metadata": {
  "kernelspec": {
   "display_name": "Python 3",
   "language": "python",
   "name": "python3"
  },
  "language_info": {
   "codemirror_mode": {
    "name": "ipython",
    "version": 3
   },
   "file_extension": ".py",
   "mimetype": "text/x-python",
   "name": "python",
   "nbconvert_exporter": "python",
   "pygments_lexer": "ipython3",
   "version": "3.7.4"
  }
 },
 "nbformat": 4,
 "nbformat_minor": 2
}
